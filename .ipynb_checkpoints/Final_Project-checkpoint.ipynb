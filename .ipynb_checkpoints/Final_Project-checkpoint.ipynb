{
 "cells": [
  {
   "cell_type": "code",
   "execution_count": 1,
   "metadata": {
    "collapsed": false
   },
   "outputs": [],
   "source": [
    "import pandas as pd\n",
    "import json as js"
   ]
  },
  {
   "cell_type": "code",
   "execution_count": null,
   "metadata": {
    "collapsed": false
   },
   "outputs": [],
   "source": [
    "def import_data():\n",
    "    #Reads the json file as a String\n",
    "    data2 = open(\"train.json\").read()\n",
    "    #Converts JSON string to a List of Dictionaries\n",
    "    jsondata2 = js.loads(data2)\n",
    "    #Dictionary Storing the final values.\n",
    "    json_traing_data={}\n",
    "    # Going through the JSON data and storing the the data with key as \"RequesterID:TimestampOfRequest\"\n",
    "    for data_index in range(len(jsondata2)):\n",
    "        data = dict(jsondata2[data_index])\n",
    "        json_traing_data[data.get(\"requester_username\")+\":\"+str(data.get(\"unix_timestamp_of_request_utc\"))]=data\n",
    "import_data()"
   ]
  },
  {
   "cell_type": "code",
   "execution_count": null,
   "metadata": {
    "collapsed": true
   },
   "outputs": [],
   "source": []
  }
 ],
 "metadata": {
  "kernelspec": {
   "display_name": "Python 2",
   "language": "python",
   "name": "python2"
  },
  "language_info": {
   "codemirror_mode": {
    "name": "ipython",
    "version": 2
   },
   "file_extension": ".py",
   "mimetype": "text/x-python",
   "name": "python",
   "nbconvert_exporter": "python",
   "pygments_lexer": "ipython2",
   "version": "2.7.11"
  }
 },
 "nbformat": 4,
 "nbformat_minor": 0
}
