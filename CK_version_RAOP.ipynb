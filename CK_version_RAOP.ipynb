{
 "metadata": {
  "kernelspec": {
   "display_name": "Python 2",
   "language": "python",
   "name": "python2"
  },
  "language_info": {
   "codemirror_mode": {
    "name": "ipython",
    "version": 2
   },
   "file_extension": ".py",
   "mimetype": "text/x-python",
   "name": "python",
   "nbconvert_exporter": "python",
   "pygments_lexer": "ipython2",
   "version": "2.7.11"
  },
  "name": "",
  "signature": "sha256:76c102b2d200718197d72c1c06f1490afae264e8e293128db21abab9597fd468"
 },
 "nbformat": 3,
 "nbformat_minor": 0,
 "worksheets": [
  {
   "cells": [
    {
     "cell_type": "heading",
     "level": 1,
     "metadata": {},
     "source": [
      "Random Acts of Pizza Baseline"
     ]
    },
    {
     "cell_type": "heading",
     "level": 3,
     "metadata": {},
     "source": [
      "Divyang Prateek and Cory Kind"
     ]
    },
    {
     "cell_type": "heading",
     "level": 6,
     "metadata": {},
     "source": [
      "Importing and structuring data"
     ]
    },
    {
     "cell_type": "markdown",
     "metadata": {},
     "source": [
      "Start by importing relevant libraries for storing and analyzing data."
     ]
    },
    {
     "cell_type": "code",
     "collapsed": false,
     "input": [
      "import pandas as pd\n",
      "import json as js\n",
      "import random\n",
      "from sklearn import metrics\n",
      "from sklearn.linear_model import LogisticRegression\n",
      "from sklearn.feature_extraction.text import *\n",
      "from sklearn.grid_search import GridSearchCV"
     ],
     "language": "python",
     "metadata": {},
     "outputs": [],
     "prompt_number": 1
    },
    {
     "cell_type": "markdown",
     "metadata": {},
     "source": [
      "Read in JSON file of training data."
     ]
    },
    {
     "cell_type": "code",
     "collapsed": false,
     "input": [
      "#Reads the json file as a String\n",
      "data2 = open(\"train.json\").read()\n",
      "#Converts JSON string to a List of Dictionaries\n",
      "jsondata2 = js.loads(data2)"
     ],
     "language": "python",
     "metadata": {},
     "outputs": [],
     "prompt_number": 2
    },
    {
     "cell_type": "markdown",
     "metadata": {},
     "source": [
      "The RAOP data contains a variety of predictors of different formats. This step puts variables into separate categories for text and numeric, and creates an array for the outcome we are trying to predict (\"requester_received_pizza\"). We decided it was easier to work with text and numeric variables separately at this stage.\n",
      "\n",
      "\n",
      "NOTE that the following variables are not currently imported because they require extra processing. They will be addressed at a later point, but are not required for the baseline.\n",
      "\n",
      "1) requester_subreddits_at_request (returns an array)\n",
      "\n",
      "2) unix timestamp of request (date format)"
     ]
    },
    {
     "cell_type": "code",
     "collapsed": false,
     "input": [
      "#numeric variables\n",
      "numeric_variables = ['number_of_downvotes_of_request_at_retrieval',\n",
      "    'number_of_upvotes_of_request_at_retrieval',\n",
      "    'post_was_edited',\n",
      "    'request_number_of_comments_at_retrieval',\n",
      "    'requester_account_age_in_days_at_request',\n",
      "    'requester_account_age_in_days_at_request',\n",
      "    'requester_account_age_in_days_at_retrieval',\n",
      "    'requester_days_since_first_post_on_raop_at_request',\n",
      "    'requester_days_since_first_post_on_raop_at_retrieval',\n",
      "    'requester_number_of_comments_at_request',\n",
      "    'requester_number_of_comments_at_retrieval',\n",
      "    'requester_number_of_comments_in_raop_at_request',\n",
      "    'requester_number_of_comments_in_raop_at_retrieval',\n",
      "    'requester_number_of_posts_at_request',\n",
      "    'requester_number_of_posts_at_retrieval',\n",
      "    'requester_number_of_posts_on_raop_at_request',\n",
      "    'requester_number_of_posts_on_raop_at_retrieval',\n",
      "    'requester_number_of_subreddits_at_request',\n",
      "    'requester_upvotes_minus_downvotes_at_request',\n",
      "    'requester_upvotes_minus_downvotes_at_retrieval',\n",
      "    'requester_upvotes_plus_downvotes_at_request',\n",
      "    'requester_upvotes_plus_downvotes_at_retrieval'\n",
      "    'unix_timestamp_of_request_utc']\n",
      "\n",
      "#text variables\n",
      "text_variables = ['giver_username_if_known',\n",
      "    'request_id',\n",
      "    'request_text',\n",
      "    'request_text_edit_aware',\n",
      "    'request_title',\n",
      "    'requester_user_flair',\n",
      "    'requester_username']\n",
      "\n",
      "#Creating empty data frames to store the training data\n",
      "numeric_elements = pd.DataFrame(np.nan, index = range(len(jsondata2)), columns = numeric_variables)\n",
      "text_elements = pd.DataFrame(np.nan, index = range(len(jsondata2)), columns = text_variables)\n",
      "outcome = pd.DataFrame(np.nan, index = range(len(jsondata2)), columns = ['requester_received_pizza'])\n",
      "\n",
      "#Print the number of text and numeric predictors currently included\n",
      "print \"Number of numeric variables: \", len(numeric_elements.columns)\n",
      "print \"Number of text variables: \", len(text_elements.columns)"
     ],
     "language": "python",
     "metadata": {},
     "outputs": [
      {
       "output_type": "stream",
       "stream": "stdout",
       "text": [
        "Number of numeric variables:  22\n",
        "Number of text variables:  7\n"
       ]
      }
     ],
     "prompt_number": 3
    },
    {
     "cell_type": "markdown",
     "metadata": {},
     "source": [
      "The next step is to fill these arrays from the JSON data. Although the loop approach is less efficient at large scale, we went this direction because the number of keys varies between cases in the data."
     ]
    },
    {
     "cell_type": "code",
     "collapsed": false,
     "input": [
      "for i in range(len(jsondata2)):\n",
      "    mykeys = jsondata2[i].keys()\n",
      "    myvals = jsondata2[i].values()\n",
      "    for key, val in zip(mykeys, myvals):\n",
      "        if key in numeric_variables:\n",
      "            idx = numeric_variables.index(key)\n",
      "            numeric_elements.iloc[i, idx] = val\n",
      "        if key in text_variables:\n",
      "            idx = text_variables.index(key)\n",
      "            text_elements.iloc[i, idx] = val\n",
      "        if key == 'requester_received_pizza':\n",
      "            outcome.iloc[i,0] = val\n"
     ],
     "language": "python",
     "metadata": {},
     "outputs": [],
     "prompt_number": 4
    },
    {
     "cell_type": "markdown",
     "metadata": {},
     "source": [
      "This is a quick check on the size of these arrays - the number of columns should match the number of text and numeric predictors determined above."
     ]
    },
    {
     "cell_type": "code",
     "collapsed": false,
     "input": [
      "#Output shapes of numeric, text, and outcome arrays\n",
      "print \"Numeric array:\"\n",
      "print numeric_elements.shape\n",
      "print \n",
      "\n",
      "print \"Text array:\"\n",
      "print text_elements.shape\n",
      "print\n",
      "\n",
      "print \"Outcome array:\"\n",
      "print outcome.shape\n",
      "print"
     ],
     "language": "python",
     "metadata": {},
     "outputs": [
      {
       "output_type": "stream",
       "stream": "stdout",
       "text": [
        "Numeric array:\n",
        "(4040, 22)\n",
        "\n",
        "Text array:\n",
        "(4040, 7)\n",
        "\n",
        "Outcome array:\n",
        "(4040, 1)\n",
        "\n"
       ]
      }
     ],
     "prompt_number": 10
    },
    {
     "cell_type": "markdown",
     "metadata": {},
     "source": [
      "Here we split out a dev set from the provided training data (80/20). There is no need to separate out a test set, since that is provided by Kaggle in a separate JSON file. To compare our results to other competitors in the Kaggle competition, we will need to use that test set."
     ]
    },
    {
     "cell_type": "code",
     "collapsed": true,
     "input": [
      "random.seed(500)\n",
      "data_size = len(jsondata2)\n",
      "dev_indices = random.sample(range(data_size), data_size / 5)\n",
      "train_indices = list(set(range(data_size)) - set(dev_indices))\n",
      "\n",
      "print \"Number of training cases: \", len(train_indices)\n",
      "print \"Number of dev cases: \", len(dev_indices)"
     ],
     "language": "python",
     "metadata": {},
     "outputs": [
      {
       "output_type": "stream",
       "stream": "stdout",
       "text": [
        "Number of training cases:  3232\n",
        "Number of dev cases:  808\n"
       ]
      }
     ],
     "prompt_number": 5
    },
    {
     "cell_type": "heading",
     "level": 6,
     "metadata": {},
     "source": [
      "Creating features for the baseline model"
     ]
    },
    {
     "cell_type": "markdown",
     "metadata": {},
     "source": [
      "Now that the set-up is over, we can start using the text of the request to extract more interesting predictors. As a baseline, we're going to build a logistic regression model based on the word counts from the request text alone."
     ]
    },
    {
     "cell_type": "code",
     "collapsed": false,
     "input": [
      "#Pull out the request text and outcomes for training and dev sets\n",
      "train_request_text = text_elements.ix[train_indices, \"request_text\"]\n",
      "dev_request_text = text_elements.ix[dev_indices, \"request_text\"]\n",
      "\n",
      "train_outcome = outcome.ix[train_indices,].astype(int).sum(axis = 1)\n",
      "dev_outcome = outcome.ix[dev_indices,].astype(int).sum(axis = 1)"
     ],
     "language": "python",
     "metadata": {},
     "outputs": [],
     "prompt_number": 7
    },
    {
     "cell_type": "code",
     "collapsed": false,
     "input": [
      "#Create CountVectorizer object with no preprocessing, but include basic English stop words\n",
      "vectorizer = CountVectorizer(analyzer = \"word\", tokenizer = None, preprocessor = None, stop_words = \"english\")\n",
      "train_data_features = vectorizer.fit_transform(train_request_text)\n",
      "train_vocab = vectorizer.get_feature_names()\n",
      "\n",
      "#Use train_vocab to extract the same features from the dev set\n",
      "vectorizer_dev = CountVectorizer(analyzer = \"word\", tokenizer= None, preprocessor = None, stop_words = \"english\", vocabulary = train_vocab)\n",
      "dev_data_features = vectorizer_dev.fit_transform(dev_request_text)\n",
      "\n",
      "print \"The length of the vocabulary using this basic model is: \", str(len(train_vocab))"
     ],
     "language": "python",
     "metadata": {},
     "outputs": [
      {
       "output_type": "stream",
       "stream": "stdout",
       "text": [
        "The length of the vocabulary using this basic model is:  10919\n"
       ]
      }
     ],
     "prompt_number": 8
    },
    {
     "cell_type": "heading",
     "level": 6,
     "metadata": {},
     "source": [
      "Fitting a logistic regression model and printing confusion matrix and classification report"
     ]
    },
    {
     "cell_type": "code",
     "collapsed": false,
     "input": [
      "#Fit L2 Logistic Regression model\n",
      "log_regression = LogisticRegression(penalty = \"l2\", C = 1)\n",
      "log_regression.fit(train_data_features, train_outcome)\n",
      "dev_predicted_labels = log_regression.predict(dev_data_features)\n",
      "\n",
      "#Print confusion matrix and classification report\n",
      "print \"Confusion matrix on dev data for Logistic Regression model no processing, using only request_text: \"\n",
      "print metrics.confusion_matrix(dev_outcome, dev_predicted_labels, labels = [0,1])\n",
      "print\n",
      "\n",
      "print \"Classification report: \"\n",
      "print metrics.classification_report(dev_outcome, dev_predicted_labels, labels = [0, 1])"
     ],
     "language": "python",
     "metadata": {},
     "outputs": [
      {
       "output_type": "stream",
       "stream": "stdout",
       "text": [
        "Confusion matrix on dev data for Logistic Regression model no processing, using only request_text: \n",
        "[[537  60]\n",
        " [156  55]]\n",
        "\n",
        "Classification report: \n",
        "             precision    recall  f1-score   support\n",
        "\n",
        "          0       0.77      0.90      0.83       597\n",
        "          1       0.48      0.26      0.34       211\n",
        "\n",
        "avg / total       0.70      0.73      0.70       808\n",
        "\n"
       ]
      }
     ],
     "prompt_number": 9
    },
    {
     "cell_type": "markdown",
     "metadata": {},
     "source": [
      "We are pretty happy with this as a first attempt. There is a lot of room for growth, but even with our very basic model we're seeing decent initial results."
     ]
    },
    {
     "cell_type": "heading",
     "level": 6,
     "metadata": {},
     "source": [
      "Directions for future analysis"
     ]
    },
    {
     "cell_type": "markdown",
     "metadata": {},
     "source": [
      "As a quick check of our initial model, we pulled out the 20 unigrams with the largest weights. This can also help us think through what patterns to look for in the data."
     ]
    },
    {
     "cell_type": "code",
     "collapsed": false,
     "input": [
      "#Extracting 20 largest weights from the logistic regression model and printing\n",
      "weights = log_regression.coef_\n",
      "top_weights = np.argpartition(weights[0,], -19)[-20:]\n",
      "\n",
      "#Printing out features\n",
      "print \"Unigram Features with Largest Weights\"\n",
      "for j in top_weights:\n",
      "    print str(train_vocab[j])"
     ],
     "language": "python",
     "metadata": {},
     "outputs": [
      {
       "output_type": "stream",
       "stream": "stdout",
       "text": [
        "Unigram Features with Largest Weights\n",
        "rice\n",
        "op\n",
        "tight\n",
        "expected\n",
        "surprise\n",
        "greatest\n",
        "ones\n",
        "sound\n",
        "hurting\n",
        "million\n",
        "couch\n",
        "park\n",
        "sunday\n",
        "reasons\n",
        "pictures\n",
        "lift\n",
        "younger\n",
        "checks\n",
        "pockets\n",
        "feelin\n"
       ]
      }
     ],
     "prompt_number": 11
    },
    {
     "cell_type": "markdown",
     "metadata": {},
     "source": [
      "These words seem directionally correct based on our early reviews of the request_text variable and the kind of requests people make. \"Rice\" is often presented as an alternative to pizza (i.e., \"I've been eating rice for a week - pizza would be a nice change\"). A second note is that \"op\" is part of the Reddit lexicon. One hypothesis is that requesters who come across as insiders are more likely to get pizza. To test for that, we can include measures like # of subreddits and length of Reddit history. A couple of other ideas we have include:\n",
      "\n",
      "- Time (seasonality, day of week, are people more likely to give at certain times of the month)\n",
      "- Text (extracting predictors from request titles, include bigrams/triagrams, # of spelling errors, potentially sentiment analysis)\n",
      "- Reddit behaviors (number of sub-reddits, length of time on Reddit, upvote/downvote differential)"
     ]
    },
    {
     "cell_type": "code",
     "collapsed": false,
     "input": [],
     "language": "python",
     "metadata": {},
     "outputs": []
    }
   ],
   "metadata": {}
  }
 ]
}