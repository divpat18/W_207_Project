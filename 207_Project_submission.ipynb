{
 "metadata": {
  "kernelspec": {
   "display_name": "Python 2",
   "language": "python",
   "name": "python2"
  },
  "language_info": {
   "codemirror_mode": {
    "name": "ipython",
    "version": 2
   },
   "file_extension": ".py",
   "mimetype": "text/x-python",
   "name": "python",
   "nbconvert_exporter": "python",
   "pygments_lexer": "ipython2",
   "version": "2.7.11"
  },
  "name": "",
  "signature": "sha256:b9ae4eb78043f89896edbe1b766a89b254e1057a3b1228d6873e879f1cecb8db"
 },
 "nbformat": 3,
 "nbformat_minor": 0,
 "worksheets": [
  {
   "cells": [
    {
     "cell_type": "heading",
     "level": 1,
     "metadata": {},
     "source": [
      "Kaggle: Random Acts of Pizza Competition Notebook"
     ]
    },
    {
     "cell_type": "heading",
     "level": 2,
     "metadata": {},
     "source": [
      "MIDS W207 Project: Brennan Borlaug, Cory Kind, & Divyang Prateek"
     ]
    },
    {
     "cell_type": "markdown",
     "metadata": {},
     "source": [
      "Goal: Predict whether a post to the Random Acts of Pizza sub-reddit will successfully receive a pizza using only information available at the time of the post.\n",
      "\n",
      "We made a  conscious decision to consider only variables available at the time the request for pizza was made. The Kaggle challenge contained additional features describing the community's reception to a request between the time that it was made and the time that data was collected (edited text, number of upvotes, etc.). While these features are valuable for predicting past outcomes, they do not allow you to make predictions at the time of a new posting. While our model will undoubtedly be less accurate than those who took advantage of all of the features provided, we feel that our final model is both more interesting and more valuable. (If you're interested in free pizza that is...)"
     ]
    },
    {
     "cell_type": "markdown",
     "metadata": {},
     "source": [
      "Link to GitHub Repo: https://github.com/divpat18/W_207_Project"
     ]
    },
    {
     "cell_type": "heading",
     "level": 3,
     "metadata": {},
     "source": [
      "*1. Importing relevant libraries/modules*"
     ]
    },
    {
     "cell_type": "markdown",
     "metadata": {},
     "source": [
      "Start by importing relevant libraries for storing and analyzing data."
     ]
    },
    {
     "cell_type": "code",
     "collapsed": false,
     "input": [
      "import pandas as pd\n",
      "import json as js\n",
      "import random\n",
      "import os\n",
      "import numpy as np\n",
      "import matplotlib.pyplot as plt\n",
      "from sklearn import metrics\n",
      "import datetime\n",
      "from sklearn.linear_model import LogisticRegression\n",
      "from sklearn.feature_extraction.text import *\n",
      "from sklearn.grid_search import GridSearchCV\n",
      "from sklearn.neighbors import KNeighborsClassifier\n",
      "from sklearn.neighbors.nearest_centroid import NearestCentroid\n",
      "from sklearn.linear_model import LinearRegression\n",
      "from sklearn.ensemble import RandomForestClassifier\n",
      "from sklearn.cross_validation import cross_val_score\n",
      "from sklearn import preprocessing\n",
      "from sklearn.decomposition import PCA"
     ],
     "language": "python",
     "metadata": {},
     "outputs": [],
     "prompt_number": 3
    },
    {
     "cell_type": "heading",
     "level": 3,
     "metadata": {},
     "source": [
      "*2. Importing and structuring data*"
     ]
    },
    {
     "cell_type": "markdown",
     "metadata": {},
     "source": [
      "Read in JSON file of training data. We have previously downloaded the file to disk and unzipped it, but you can load it from another location using os.chdir().\n",
      "\n",
      "Note: Data available through Kaggle here: https://www.kaggle.com/c/random-acts-of-pizza"
     ]
    },
    {
     "cell_type": "code",
     "collapsed": false,
     "input": [
      "#Read json file as string\n",
      "#os.chdir(\"/Users/Cory/Dropbox/Berkeley/(W207) Applied Machine Learning/Random Acts of Pizza\")\n",
      "data2 = open(\"train.json\").read()\n",
      "#Converts JSON string to a List of Dictionaries\n",
      "jsondata2 = js.loads(data2)"
     ],
     "language": "python",
     "metadata": {},
     "outputs": [],
     "prompt_number": 4
    },
    {
     "cell_type": "markdown",
     "metadata": {},
     "source": [
      "The RAOP data contains a variety of predictors of different formats. We made the decision to break the predictors up into three sets in order to distribute the workload and parallelize data exploration more effectively. The three predictor types were included: \n",
      "  \n",
      "1) Temporal variables - Features that deal with the time at which a request was submitted.  \n",
      "2) Requester variables - Features that describe the requester at the time of request.  \n",
      "3) Text variables - Features that describe the textual content of the request.  \n",
      "  \n",
      "The following cell breaks the raw data up into the three categories outlined above.  An outcome array containing the binary outcome of the request (i.e. \"requester_received_pizza\") is also created.  "
     ]
    },
    {
     "cell_type": "code",
     "collapsed": false,
     "input": [
      "#temporal_variables (related to time of request)\n",
      "temporal_variables = ['unix_timestamp_of_request_utc']\n",
      "\n",
      "#requester variables (features of requester at time of request)\n",
      "requester_variables = ['requester_account_age_in_days_at_request',\n",
      "                      'requester_days_since_first_post_on_raop_at_request',\n",
      "                      'requester_number_of_comments_at_request',\n",
      "                      'requester_number_of_comments_in_raop_at_request',\n",
      "                      'requester_number_of_posts_at_request',\n",
      "                      'requester_number_of_posts_on_raop_at_request',\n",
      "                      'requester_number_of_subreddits_at_request',\n",
      "                      'requester_upvotes_minus_downvotes_at_request',\n",
      "                      'requester_upvotes_plus_downvotes_at_request']\n",
      "\n",
      "#text variables (content of request)\n",
      "text_variables = ['giver_username_if_known',\n",
      "    'request_id',\n",
      "    'request_text',\n",
      "    'request_text_edit_aware',\n",
      "    'request_title',\n",
      "    'requester_user_flair',\n",
      "    'requester_username']\n",
      "\n",
      "#Creating empty data frames to store training data\n",
      "temporal_elements = pd.DataFrame(np.nan, index = range(len(jsondata2)), columns = temporal_variables)\n",
      "requester_elements = pd.DataFrame(np.nan, index = range(len(jsondata2)), columns = requester_variables)\n",
      "text_elements = pd.DataFrame(np.nan, index = range(len(jsondata2)), columns = text_variables)\n",
      "outcome = pd.DataFrame(np.nan, index = range(len(jsondata2)), columns = ['requester_received_pizza'])\n",
      "\n",
      "#Print the number of temporal, requester, & text predictors currently included\n",
      "print \"Number of temporal features:\", len(temporal_elements.columns)\n",
      "print \"Number of requester features:\", len(requester_elements.columns)\n",
      "print \"Number of text features:\", len(text_elements.columns)"
     ],
     "language": "python",
     "metadata": {},
     "outputs": [
      {
       "output_type": "stream",
       "stream": "stdout",
       "text": [
        "Number of temporal features: 1\n",
        "Number of requester features: 9\n",
        "Number of text features: 7\n"
       ]
      }
     ],
     "prompt_number": 5
    },
    {
     "cell_type": "markdown",
     "metadata": {},
     "source": [
      "The next step is to fill these arrays with values from the raw JSON data. Although the loop approach is less efficient at large scale, we went this direction because the number of keys varies between cases in the data.  "
     ]
    },
    {
     "cell_type": "code",
     "collapsed": false,
     "input": [
      "for i in range(len(jsondata2)):\n",
      "    mykeys = jsondata2[i].keys()\n",
      "    myvals = jsondata2[i].values()\n",
      "    for key, val in zip(mykeys, myvals):\n",
      "        if key in temporal_variables:\n",
      "            idx = temporal_variables.index(key)\n",
      "            temporal_elements.iloc[i, idx] = val\n",
      "        if key in requester_variables:\n",
      "            idx = requester_variables.index(key)\n",
      "            requester_elements.iloc[i, idx] = val\n",
      "        if key in text_variables:\n",
      "            idx = text_variables.index(key)\n",
      "            text_elements.iloc[i, idx] = val\n",
      "        if key == 'requester_received_pizza':\n",
      "            outcome.iloc[i,0] = val"
     ],
     "language": "python",
     "metadata": {},
     "outputs": [],
     "prompt_number": 6
    },
    {
     "cell_type": "markdown",
     "metadata": {},
     "source": [
      "This is a quick check on the size of these arrays - the number of columns should match the number of temporal, requester, and text predictors determined above."
     ]
    },
    {
     "cell_type": "code",
     "collapsed": false,
     "input": [
      "#Output shapes of temporal, requester, text, and outcome arrays\n",
      "print \"Temporal array:\"\n",
      "print temporal_elements.shape\n",
      "print \n",
      "\n",
      "print \"Requester array:\"\n",
      "print requester_elements.shape\n",
      "print\n",
      "\n",
      "print \"Text array:\"\n",
      "print text_elements.shape\n",
      "print\n",
      "\n",
      "print \"Outcome array:\"\n",
      "print outcome.shape\n",
      "print"
     ],
     "language": "python",
     "metadata": {},
     "outputs": [
      {
       "output_type": "stream",
       "stream": "stdout",
       "text": [
        "Temporal array:\n",
        "(4040, 1)\n",
        "\n",
        "Requester array:\n",
        "(4040, 9)\n",
        "\n",
        "Text array:\n",
        "(4040, 7)\n",
        "\n",
        "Outcome array:\n",
        "(4040, 1)\n",
        "\n"
       ]
      }
     ],
     "prompt_number": 7
    },
    {
     "cell_type": "markdown",
     "metadata": {},
     "source": [
      "We need a dev set for cross validation. Here we split out a dev set from the provided training data using an 80/20 split. There is no need to separate out a test set, since that is provided by Kaggle in a separate JSON file. To compare our results to other competitors in the Kaggle competition, we will need to use that test set."
     ]
    },
    {
     "cell_type": "code",
     "collapsed": false,
     "input": [
      "random.seed(500)\n",
      "data_size = len(jsondata2)\n",
      "dev_indices = random.sample(range(data_size), data_size / 5)\n",
      "train_indices = list(set(range(data_size)) - set(dev_indices))\n",
      "\n",
      "#Define training & dev sets\n",
      "train_temporal_feats = temporal_elements.ix[train_indices,]\n",
      "train_requester_feats = requester_elements.ix[train_indices,]\n",
      "train_text_feats = requester_elements.ix[train_indices,]\n",
      "train_outcomes = outcome.ix[train_indices,].astype(int).sum(axis = 1)\n",
      "\n",
      "dev_temporal_feats = temporal_elements.ix[dev_indices,]\n",
      "dev_requester_feats = requester_elements.ix[dev_indices,]\n",
      "dev_text_feats = text_elements.ix[dev_indices,]\n",
      "dev_outcomes = outcome.ix[dev_indices,].astype(int).sum(axis = 1)\n",
      "\n",
      "print \"Number of training cases: \", len(train_indices)\n",
      "print \"Number of dev cases: \", len(dev_indices)"
     ],
     "language": "python",
     "metadata": {},
     "outputs": [
      {
       "output_type": "stream",
       "stream": "stdout",
       "text": [
        "Number of training cases:  3232\n",
        "Number of dev cases:  808\n"
       ]
      }
     ],
     "prompt_number": 8
    },
    {
     "cell_type": "heading",
     "level": 3,
     "metadata": {},
     "source": [
      "*3. Generate Baseline*"
     ]
    },
    {
     "cell_type": "markdown",
     "metadata": {},
     "source": [
      "Before we begin to develop a predictive model, we must establish a baseline to give ourselves a sense of what we are trying to achieve. In our application, the following models could serve as an effective baseline: \n",
      "    1. A model that always predicts the most frequent label (in this case, no pizza).\n",
      "    2. A model that predicts outcomes with the probability of the mean response (e.g. 26.6% of requesters receive a pizza, therefore the model will predict positive outcomes 24.6% of the time)."
     ]
    },
    {
     "cell_type": "code",
     "collapsed": false,
     "input": [
      "y = 0\n",
      "r = 0\n",
      "outcomes = []\n",
      "\n",
      "#Counting positive and negative classes in the overall data\n",
      "for request in jsondata2:\n",
      "    if request['requester_received_pizza'] == True:\n",
      "        y+=1\n",
      "        r+=1\n",
      "        outcomes.append(1)\n",
      "    else:\n",
      "        r+=1\n",
      "        outcomes.append(0)\n",
      "avg = float(y)/float(r)\n",
      "\n",
      "#Baseline 1 - always guess the most frequent label\n",
      "base1 = [0]*len(jsondata2)\n",
      "c = 0\n",
      "n = 0\n",
      "for i, j in zip(base1, outcomes):\n",
      "    if i == j:\n",
      "        c+=1\n",
      "        n+=1\n",
      "    else:\n",
      "        n+=1\n",
      "print 'Baseline 1 Accuracy:', round(float(c)/float(n),4)*100, '%'\n",
      "\n",
      "#Baseline 2 - always guess with the probability of the mean \n",
      "base2 = np.random.binomial(1, avg, size=len(jsondata2))\n",
      "c = 0\n",
      "n = 0\n",
      "for i, j in zip(base2, outcomes):\n",
      "    if i == j:\n",
      "        c+=1\n",
      "        n+=1\n",
      "    else:\n",
      "        n+=1        \n",
      "print 'Baseline 2 Accuracy:', round(float(c)/float(n),4)*100, '%'"
     ],
     "language": "python",
     "metadata": {},
     "outputs": [
      {
       "output_type": "stream",
       "stream": "stdout",
       "text": [
        "Baseline 1 Accuracy: 75.4 %\n",
        "Baseline 2 Accuracy: 62.55 %\n"
       ]
      }
     ],
     "prompt_number": 9
    },
    {
     "cell_type": "heading",
     "level": 3,
     "metadata": {},
     "source": [
      "*4. Feature Extraction*"
     ]
    },
    {
     "cell_type": "markdown",
     "metadata": {},
     "source": [
      "Now that we've established two baselines, we can move on to extracting features. Note that the features below represent only the most successful portion of the feature extraction we tried. We focused on three key sets of predictors: temporal predictors (time, date, month, etc.), predictors about the requester and his or her Reddit history, and predictors directly from the request text."
     ]
    },
    {
     "cell_type": "heading",
     "level": 5,
     "metadata": {},
     "source": [
      "*4-1. Extract temporal features*"
     ]
    },
    {
     "cell_type": "markdown",
     "metadata": {},
     "source": [
      "The first major category of features are temporal features."
     ]
    },
    {
     "cell_type": "code",
     "collapsed": false,
     "input": [
      "#Convert unix timestamp to datetime\n",
      "train_request_time = temporal_elements.ix[train_indices,\"unix_timestamp_of_request_utc\"].astype(long)\n",
      "train_request_dateTime = [datetime.datetime.fromtimestamp(time) for time in train_request_time]\n",
      "dev_request_time = temporal_elements.ix[dev_indices,\"unix_timestamp_of_request_utc\"].astype(long)\n",
      "dev_request_dateTime = [datetime.datetime.fromtimestamp(time) for time in dev_request_time]"
     ],
     "language": "python",
     "metadata": {},
     "outputs": [],
     "prompt_number": 10
    },
    {
     "cell_type": "markdown",
     "metadata": {},
     "source": [
      "Since we are interested in developing a model capable of predicting the outcome of a new RAOP request, a few temporal features will not be useful to us. A good example is year  - all requests in the training set were made between 2011 and 2013, but predictors based on year aren't useful for our purposes. We are more interested in developing a model that will generalize to current and future requests than one that excels at predicting past outcomes. As such we will focus on the following temporal variables, which we expect to generalize to the future:  \n",
      "* Day of week (dummies)  \n",
      "* Month (dummies)  \n",
      "* Hour in day (dummies)"
     ]
    },
    {
     "cell_type": "code",
     "collapsed": false,
     "input": [
      "#Create day_of_week variable (train & dev)\n",
      "train_dow=[]\n",
      "dev_dow=[]\n",
      "for day in train_request_dateTime:\n",
      "    train_dow.append(day.weekday())\n",
      "    \n",
      "for day in dev_request_dateTime:\n",
      "    dev_dow.append(day.weekday())\n",
      "\n",
      "train_dow = np.asarray(train_dow)\n",
      "dev_dow = np.asarray(dev_dow)\n",
      "dow_train_dummies = pd.get_dummies(train_dow.flatten())\n",
      "dow_train_dummies.columns=['Mon', 'Tue', 'Wed', 'Thu', 'Fri', 'Sat', 'Sun']\n",
      "dow_dev_dummies = pd.get_dummies(dev_dow.flatten())\n",
      "dow_dev_dummies.columns=['Mon', 'Tue', 'Wed', 'Thu', 'Fri', 'Sat', 'Sun']\n",
      "    \n",
      "#Create month variables\n",
      "train_month = np.asarray([time.month for time in train_request_dateTime]).reshape((len(train_request_time),1))\n",
      "dev_month = np.asarray([time.month for time in dev_request_dateTime]).reshape((len(dev_request_time),1))\n",
      "\n",
      "month_train_dummies = pd.get_dummies(train_month.flatten())\n",
      "month_train_dummies.columns=['Jan', 'Feb', 'Mar', 'Apr', 'May', 'Jun', 'Jul',\n",
      "                             'Aug', 'Sep', 'Oct', 'Nov', 'Dec']\n",
      "month_dev_dummies = pd.get_dummies(dev_month.flatten())\n",
      "month_dev_dummies.columns=['Jan', 'Feb', 'Mar', 'Apr', 'May', 'Jun', 'Jul',\n",
      "                             'Aug', 'Sep', 'Oct', 'Nov', 'Dec']\n",
      "\n",
      "#Create hour_of_day variable (train & dev)\n",
      "train_hour = np.asarray([time.hour for time in train_request_dateTime]).reshape((len(train_request_time),1))\n",
      "dev_hour = np.asarray([time.hour for time in train_request_dateTime]).reshape((len(train_request_time), 1))\n",
      "\n",
      "hour_train_dummies = pd.get_dummies(train_hour.flatten())\n",
      "hour_dev_dummies = pd.get_dummies(dev_hour.flatten())\n",
      "\n",
      "#Combine all features\n",
      "temporal_train_dummies = pd.concat([dow_train_dummies,month_train_dummies,hour_train_dummies], axis=1, join='inner')\n",
      "temporal_dev_dummies = pd.concat([dow_dev_dummies,month_dev_dummies,hour_dev_dummies], axis=1, join='inner')\n",
      "\n",
      "#Create temporal feats dataframes\n",
      "train_temporal = pd.DataFrame(temporal_train_dummies)\n",
      "dev_temporal = pd.DataFrame(temporal_dev_dummies)\n",
      "\n",
      "#Create outcome arrays\n",
      "train_time_label = np.asarray(train_outcomes)\n",
      "dev_time_label = np.asarray(train_outcomes)\n",
      "\n",
      "#Check logistic regression coeffs for all feats\n",
      "lr_clf = LogisticRegression(C=1)\n",
      "lr_clf = lr_clf.fit(train_temporal,train_outcomes)\n",
      "print pd.DataFrame(zip(train_temporal, np.transpose(lr_clf.coef_)), \n",
      "                   columns=['features', 'coefs']).sort_values('coefs', ascending = False)"
     ],
     "language": "python",
     "metadata": {},
     "outputs": [
      {
       "output_type": "stream",
       "stream": "stdout",
       "text": [
        "   features                coefs\n",
        "27        8     [0.487930493096]\n",
        "29       10     [0.358930883952]\n",
        "39       20     [0.335851184434]\n",
        "30       11     [0.315620211542]\n",
        "32       13     [0.276133712516]\n",
        "12      Jun     [0.273253820387]\n",
        "33       14      [0.20968569595]\n",
        "28        9     [0.200486742648]\n",
        "31       12     [0.159908762779]\n",
        "10      Apr     [0.128127491758]\n",
        "37       18    [0.0950991136917]\n",
        "8       Feb    [0.0490415624542]\n",
        "20        1    [0.0229794082362]\n",
        "35       16    [0.0191540381007]\n",
        "0       Mon   [0.00206736675821]\n",
        "42       23  [-0.00870018620332]\n",
        "3       Thu   [-0.0222987199018]\n",
        "18      Dec   [-0.0277608727531]\n",
        "13      Jul   [-0.0376049814028]\n",
        "7       Jan   [-0.0490517170034]\n",
        "38       19   [-0.0618448862446]\n",
        "2       Wed   [-0.0682080559691]\n",
        "40       21   [-0.0716511302799]\n",
        "11      May   [-0.0783193594296]\n",
        "9       Mar   [-0.0971344491832]\n",
        "6       Sun    [-0.120047366486]\n",
        "41       22    [-0.127813761003]\n",
        "34       15    [-0.135228446053]\n",
        "23        4    [-0.157747670726]\n",
        "4       Fri    [-0.177024426137]\n",
        "16      Oct    [-0.191683500852]\n",
        "5       Sat    [-0.205785974885]\n",
        "36       17    [-0.210961358183]\n",
        "26        7    [-0.247032144388]\n",
        "17      Nov    [-0.299592084911]\n",
        "14      Aug     [-0.30983676146]\n",
        "15      Sep    [-0.313966526421]\n",
        "1       Tue    [-0.363230202196]\n",
        "21        2    [-0.373241745813]\n",
        "24        5    [-0.413252934203]\n",
        "25        6    [-0.446094231963]\n",
        "19        0    [-0.491656816558]\n",
        "22        3    [-0.691082314143]\n"
       ]
      }
     ],
     "prompt_number": 11
    },
    {
     "cell_type": "heading",
     "level": 4,
     "metadata": {},
     "source": [
      "*4-2. Extract requester features*"
     ]
    },
    {
     "cell_type": "markdown",
     "metadata": {},
     "source": [
      "The second major category of features are requester-based features, namely the requester's previous Reddit activity. Reddit is a somewhat insular community, so we expect these to have a large impact on the likelihood of a request successfully earning a pizza. Finally, since requester features contain different scales, it is a good idea to normalize the data:"
     ]
    },
    {
     "cell_type": "code",
     "collapsed": false,
     "input": [
      "#Create new dataframe to store scaled training features\n",
      "norm_train_req = pd.DataFrame()\n",
      "norm_train_req['requester_account_age_in_days_at_request'] = preprocessing.scale(train_requester_feats['requester_account_age_in_days_at_request'])\n",
      "norm_train_req['requester_days_since_first_post_on_raop_at_request'] = preprocessing.scale(train_requester_feats['requester_days_since_first_post_on_raop_at_request'])\n",
      "norm_train_req['requester_number_of_comments_at_request'] = preprocessing.scale(train_requester_feats['requester_number_of_comments_at_request'])\n",
      "norm_train_req['requester_number_of_comments_in_raop_at_request'] = preprocessing.scale(train_requester_feats['requester_number_of_comments_in_raop_at_request'])                      \n",
      "norm_train_req['requester_number_of_posts_at_request'] = preprocessing.scale(train_requester_feats['requester_number_of_posts_at_request'])    \n",
      "norm_train_req['requester_number_of_posts_on_raop_at_request'] = preprocessing.scale(train_requester_feats['requester_number_of_posts_on_raop_at_request'])                      \n",
      "norm_train_req['requester_number_of_subreddits_at_request'] = preprocessing.scale(train_requester_feats['requester_number_of_subreddits_at_request'])    \n",
      "norm_train_req['requester_upvotes_minus_downvotes_at_request'] = preprocessing.scale(train_requester_feats['requester_upvotes_minus_downvotes_at_request'])\n",
      "norm_train_req['requester_upvotes_plus_downvotes_at_request'] = preprocessing.scale(train_requester_feats['requester_upvotes_plus_downvotes_at_request'])                     \n",
      "\n",
      "#Create dataframe for scaled dev features\n",
      "norm_dev_req = pd.DataFrame()\n",
      "norm_dev_req['requester_account_age_in_days_at_request'] = preprocessing.scale(dev_requester_feats['requester_account_age_in_days_at_request'])\n",
      "norm_dev_req['requester_days_since_first_post_on_raop_at_request'] = preprocessing.scale(dev_requester_feats['requester_days_since_first_post_on_raop_at_request'])\n",
      "norm_dev_req['requester_number_of_comments_at_request'] = preprocessing.scale(dev_requester_feats['requester_number_of_comments_at_request'])\n",
      "norm_dev_req['requester_number_of_comments_in_raop_at_request'] = preprocessing.scale(dev_requester_feats['requester_number_of_comments_in_raop_at_request'])                      \n",
      "norm_dev_req['requester_number_of_posts_at_request'] = preprocessing.scale(dev_requester_feats['requester_number_of_posts_at_request'])    \n",
      "norm_dev_req['requester_number_of_posts_on_raop_at_request'] = preprocessing.scale(dev_requester_feats['requester_number_of_posts_on_raop_at_request'])                      \n",
      "norm_dev_req['requester_number_of_subreddits_at_request'] = preprocessing.scale(dev_requester_feats['requester_number_of_subreddits_at_request'])    \n",
      "norm_dev_req['requester_upvotes_minus_downvotes_at_request'] = preprocessing.scale(dev_requester_feats['requester_upvotes_minus_downvotes_at_request'])\n",
      "norm_dev_req['requester_upvotes_plus_downvotes_at_request'] = preprocessing.scale(dev_requester_feats['requester_upvotes_plus_downvotes_at_request'])"
     ],
     "language": "python",
     "metadata": {},
     "outputs": [],
     "prompt_number": 12
    },
    {
     "cell_type": "heading",
     "level": 4,
     "metadata": {},
     "source": [
      "*4-3. Extract text features*"
     ]
    },
    {
     "cell_type": "markdown",
     "metadata": {},
     "source": [
      "Finally, we have to also look at the text of the request itself. We also considered the title text, but the text of the request tended to be more useful. Once again, we chose to focus on text at posting rather than edited text, which often reflects the requester thanking the community for pizza (or expressing discontent at not receiving one)."
     ]
    },
    {
     "cell_type": "code",
     "collapsed": true,
     "input": [
      "#Pull out the request text and outcomes for training and dev sets\n",
      "train_request_text = text_elements.ix[train_indices, \"request_text\"]\n",
      "dev_request_text = text_elements.ix[dev_indices, \"request_text\"]"
     ],
     "language": "python",
     "metadata": {},
     "outputs": [],
     "prompt_number": 13
    },
    {
     "cell_type": "code",
     "collapsed": false,
     "input": [
      "#Create CountVectorizer object with no preprocessing, but include basic English stop words\n",
      "vectorizer = CountVectorizer(analyzer = \"word\", tokenizer = None, preprocessor = None, stop_words = \"english\")\n",
      "train_text_features = vectorizer.fit_transform(train_request_text).toarray()\n",
      "train_vocab = vectorizer.get_feature_names()\n",
      "\n",
      "#Use train_vocab to extract the same features from the dev set\n",
      "vectorizer_dev = CountVectorizer(analyzer = \"word\", tokenizer= None, preprocessor = None, stop_words = \"english\", vocabulary = train_vocab)\n",
      "dev_text_features = vectorizer_dev.fit_transform(dev_request_text).toarray()\n",
      "\n",
      "print \"The size of the vocabulary using this basic model is: \", str(len(train_vocab))"
     ],
     "language": "python",
     "metadata": {},
     "outputs": [
      {
       "output_type": "stream",
       "stream": "stdout",
       "text": [
        "The size of the vocabulary using this basic model is:  10919\n"
       ]
      }
     ],
     "prompt_number": 14
    },
    {
     "cell_type": "markdown",
     "metadata": {},
     "source": [
      "The problem with having a vocabulary of that size (almost 11K predictors!) is that it's going to dominate the rest of the feature extraction work that we've done. To avoid that, we're going to run PCA to reduce the number of predictors in the model.\n",
      "\n",
      "The plot below shows the cumulative explained variance of the first 500 PCA components using the request text variables."
     ]
    },
    {
     "cell_type": "code",
     "collapsed": false,
     "input": [
      "pca = PCA(n_components = 500)\n",
      "pca.fit(train_text_features)\n",
      "\n",
      "#Plotting cumulative explained variance of PCA components\n",
      "plt.figure(figsize = (10, 10))\n",
      "plt.plot(range(1, 501), np.cumsum(pca.explained_variance_ratio_))\n",
      "plt.xlabel(\"PCA Components #1-500\")\n",
      "plt.ylabel(\"Explained Variance\")\n",
      "plt.title(\"Cumulative Explained Variance of First 500 PCA Components\")"
     ],
     "language": "python",
     "metadata": {},
     "outputs": [
      {
       "metadata": {},
       "output_type": "pyout",
       "prompt_number": 15,
       "text": [
        "<matplotlib.text.Text at 0x112f22490>"
       ]
      },
      {
       "metadata": {},
       "output_type": "display_data",
       "png": "[encoded data removed]",
       "text": [
        "<matplotlib.figure.Figure at 0x112cc8b90>"
       ]
      }
     ],
     "prompt_number": 15
    },
    {
     "cell_type": "markdown",
     "metadata": {},
     "source": [
      "There is no obvious drop-off point, but it looks as though the slope becomes much less steep after PCA component #200 or so. The next step is to combine the variables already created into a dataframe and gradually add text components. We will stop adding text components when the accuracy of the model (based on simple logistic regression) starts to decrease, since the marginal benefit of additional components will be low. "
     ]
    },
    {
     "cell_type": "code",
     "collapsed": false,
     "input": [
      "non_text_train = np.concatenate((train_requester_feats, train_temporal), axis = 1)\n",
      "non_text_dev = np.concatenate((dev_requester_feats, dev_temporal), axis= 1)\n",
      "\n",
      "train_transformed = pca.fit_transform(train_text_features)\n",
      "dev_transformed = pca.transform(dev_text_features)\n",
      "\n",
      "accuracies_list = [] \n",
      "\n",
      "for i in range(1,501):\n",
      "    \n",
      "    train_all = np.concatenate((non_text_train, train_transformed[:,range(i)]), axis = 1)\n",
      "    dev_all = np.concatenate((non_text_dev, dev_transformed[:,range(i)]), axis = 1)\n",
      "    \n",
      "    reg = LogisticRegression(penalty=\"l2\", C=1.0)\n",
      "    reg.fit(train_all, train_outcomes)\n",
      "    reg_preds = reg.predict(dev_all)\n",
      "    \n",
      "    accuracies_list.append(round(metrics.accuracy_score(dev_outcomes, reg_preds),4)*100)"
     ],
     "language": "python",
     "metadata": {},
     "outputs": [],
     "prompt_number": 16
    },
    {
     "cell_type": "code",
     "collapsed": false,
     "input": [
      "plt.figure(figsize = (10, 10))\n",
      "plt.plot(range(1, 501), accuracies_list)\n",
      "plt.xlabel(\"First 500 PCA Components on Request Text\")\n",
      "plt.ylabel(\"Accuracy\")\n",
      "plt.title(\"Accuracies with Reduced Text Components\")"
     ],
     "language": "python",
     "metadata": {},
     "outputs": [
      {
       "metadata": {},
       "output_type": "pyout",
       "prompt_number": 17,
       "text": [
        "<matplotlib.text.Text at 0x113d6ac10>"
       ]
      },
      {
       "metadata": {},
       "output_type": "display_data",
       "png": "[encoded data removed]",
       "text": [
        "<matplotlib.figure.Figure at 0x112faac10>"
       ]
      }
     ],
     "prompt_number": 17
    },
    {
     "cell_type": "code",
     "collapsed": false,
     "input": [
      "accuracies_list = np.asarray(accuracies_list)\n",
      "print \"Maximum Accuracy: \", max(accuracies_list)\n",
      "max_accuracies = np.where(accuracies_list == max(accuracies_list))[0]+1 #Add 1 because the first accuracies_list[0] = 1 component\n",
      "print \"Number of components with that accuracy: \", max_accuracies"
     ],
     "language": "python",
     "metadata": {},
     "outputs": [
      {
       "output_type": "stream",
       "stream": "stdout",
       "text": [
        "Maximum Accuracy:  76.36\n",
        "Number of components with that accuracy:  [111 310]\n"
       ]
      }
     ],
     "prompt_number": 18
    },
    {
     "cell_type": "markdown",
     "metadata": {},
     "source": [
      "There are two equivalent peaks at 111 and 310. As the plot indicated, after about 200 the overall accuracy goes down because we are overwhelming the other variables with additional text components. I'm going to go with 111, the more parsimonious model."
     ]
    },
    {
     "cell_type": "code",
     "collapsed": false,
     "input": [
      "#Use PCA to reduce # of dimensions\n",
      "pca = PCA(n_components=111)\n",
      "train_text_reduced = pca.fit_transform(train_text_features)\n",
      "dev_text_reduced = pca.transform(dev_text_features)\n",
      "train_text_reduced = pd.DataFrame(train_text_reduced)\n",
      "dev_text_reduced = pd.DataFrame(dev_text_reduced)"
     ],
     "language": "python",
     "metadata": {},
     "outputs": [],
     "prompt_number": 19
    },
    {
     "cell_type": "code",
     "collapsed": false,
     "input": [
      "#Scale new reduced text features\n",
      "cols = list(train_text_reduced.columns)\n",
      "train_text_reduced_scaled = pd.DataFrame()\n",
      "\n",
      "for col in cols:\n",
      "    col_zscore = str(col) + '_zscore'\n",
      "    train_text_reduced_scaled[col_zscore] = (train_text_reduced[col] - train_text_reduced[col].mean())/train_text_reduced[col].std(ddof=0)\n",
      "    \n",
      "cols = list(dev_text_reduced.columns)\n",
      "dev_text_reduced_scaled = pd.DataFrame()\n",
      "\n",
      "for col in cols:\n",
      "    col_zscore = str(col) + '_zscore'\n",
      "    dev_text_reduced_scaled[col_zscore] = (dev_text_reduced[col] - dev_text_reduced[col].mean())/dev_text_reduced[col].std(ddof=0)"
     ],
     "language": "python",
     "metadata": {
      "scrolled": false
     },
     "outputs": [],
     "prompt_number": 20
    },
    {
     "cell_type": "heading",
     "level": 3,
     "metadata": {},
     "source": [
      "*5. Explore Various Classifiers*"
     ]
    },
    {
     "cell_type": "markdown",
     "metadata": {},
     "source": [
      "Now we're going to transition to testing out different classifiers. We tested our predictors using 3 different algorithms: K Nearest Neighbors, Logistic Regression, and Random Forest.\n",
      "\n",
      "As a general pattern, we have trained each algorithm on the three key sets of features, so you'll see the random forest on temporal data, text data, and requester data, followed by the three sets together. This is a small portion of the total tests that we ran, but we wanted to give a sense of how the predictor sets performed individually as well as together. "
     ]
    },
    {
     "cell_type": "heading",
     "level": 4,
     "metadata": {},
     "source": [
      "*5-1. KNN Function*"
     ]
    },
    {
     "cell_type": "code",
     "collapsed": true,
     "input": [
      "def KNN(train_feats, train_labels, dev_feats, dev_labels, metric, weights='uniform'):\n",
      "    k = np.arange(20)+1\n",
      "    parameters = {'n_neighbors': k}\n",
      "    knn = KNeighborsClassifier(algorithm='auto', metric=metric, n_neighbors=k)\n",
      "    knn_clf = GridSearchCV(knn, parameters, cv=10)\n",
      "    knn_clf.fit(train_feats, train_labels)\n",
      "\n",
      "    k = knn_clf.best_params_['n_neighbors']\n",
      "\n",
      "    knn = KNeighborsClassifier(algorithm='auto', metric=metric, n_neighbors=k)\n",
      "    knn.fit(train_feats, train_labels)\n",
      "    knn_preds = knn.predict(dev_feats)\n",
      "    acc = round(metrics.accuracy_score(dev_labels, knn_preds),4)*100\n",
      "\n",
      "    print 'Nearest Neighbors Model Accuracy (',k,'neighbors ):',acc,'%'"
     ],
     "language": "python",
     "metadata": {},
     "outputs": [],
     "prompt_number": 21
    },
    {
     "cell_type": "heading",
     "level": 5,
     "metadata": {},
     "source": [
      "*5-1-1. KNN Model, Temporal Data*"
     ]
    },
    {
     "cell_type": "markdown",
     "metadata": {},
     "source": [
      "Training a K-Nearest Neighbors model on the temporal data only (all predictors)."
     ]
    },
    {
     "cell_type": "code",
     "collapsed": false,
     "input": [
      "KNN(train_temporal, train_outcomes, dev_temporal, dev_outcomes, metric = \"hamming\")"
     ],
     "language": "python",
     "metadata": {},
     "outputs": [
      {
       "output_type": "stream",
       "stream": "stdout",
       "text": [
        "Nearest Neighbors Model Accuracy ( 20 neighbors ): 73.76 %\n"
       ]
      }
     ],
     "prompt_number": 22
    },
    {
     "cell_type": "markdown",
     "metadata": {},
     "source": [
      "We also wanted to try reducing the number of temporal features to include only those with the 20 largest absolute coefficients (based on Logistic Regression), and then running K-Nearest Neighbors again to see if it improves accuracy."
     ]
    },
    {
     "cell_type": "code",
     "collapsed": false,
     "input": [
      "lr_clf = LogisticRegression(C=1)\n",
      "lr_clf = lr_clf.fit(train_temporal,train_outcomes)\n",
      "rm = train_temporal.shape[1]-20\n",
      "removed = []\n",
      "for feat in pd.DataFrame(zip(train_temporal, np.transpose(abs(lr_clf.coef_))),\n",
      "                         columns=['features', 'coefs']).sort_values('coefs', ascending = False)['features'].tail(rm):\n",
      "    removed.append(feat)\n",
      "reduced_train_temporal = train_temporal\n",
      "reduced_dev_temporal = dev_temporal\n",
      "for feat in removed:\n",
      "    reduced_train_temporal.drop(feat, axis=1, inplace=True)\n",
      "    reduced_dev_temporal.drop(feat, axis=1, inplace=True)\n",
      "KNN(reduced_train_temporal, train_outcomes, reduced_dev_temporal, dev_outcomes, metric=\"hamming\")"
     ],
     "language": "python",
     "metadata": {},
     "outputs": [
      {
       "output_type": "stream",
       "stream": "stdout",
       "text": [
        "Nearest Neighbors Model Accuracy ( 14 neighbors ): 73.64 %\n"
       ]
      }
     ],
     "prompt_number": 23
    },
    {
     "cell_type": "markdown",
     "metadata": {},
     "source": [
      "In this case, the reduction doesn't appear to have helped."
     ]
    },
    {
     "cell_type": "heading",
     "level": 4,
     "metadata": {},
     "source": [
      "*5-1-2. KNN Model, Requester Data*"
     ]
    },
    {
     "cell_type": "markdown",
     "metadata": {},
     "source": [
      "Training a K-Nearest Neighbors model on the normalized requester data only (all predictors)."
     ]
    },
    {
     "cell_type": "code",
     "collapsed": false,
     "input": [
      "#Check requester regression coeffs\n",
      "lr_clf = LogisticRegression(C=1)\n",
      "lr_clf = lr_clf.fit(norm_train_req,train_outcomes)\n",
      "print pd.DataFrame(zip(norm_train_req, np.transpose(lr_clf.coef_)), \n",
      "                   columns=['features', 'coefs']).sort_values('coefs', ascending = False)"
     ],
     "language": "python",
     "metadata": {},
     "outputs": [
      {
       "output_type": "stream",
       "stream": "stdout",
       "text": [
        "                                            features                coefs\n",
        "3    requester_number_of_comments_in_raop_at_request     [0.255744093693]\n",
        "5       requester_number_of_posts_on_raop_at_request     [0.173259943227]\n",
        "6          requester_number_of_subreddits_at_request     [0.064288743157]\n",
        "0           requester_account_age_in_days_at_request    [0.0563296974155]\n",
        "1  requester_days_since_first_post_on_raop_at_req...    [0.0416914310184]\n",
        "7       requester_upvotes_minus_downvotes_at_request   [0.00742909288698]\n",
        "8        requester_upvotes_plus_downvotes_at_request  [-0.00789511737875]\n",
        "2            requester_number_of_comments_at_request   [-0.0272276840178]\n",
        "4               requester_number_of_posts_at_request   [-0.0389159537653]\n"
       ]
      }
     ],
     "prompt_number": 24
    },
    {
     "cell_type": "code",
     "collapsed": false,
     "input": [
      "KNN(norm_train_req, train_outcomes, norm_dev_req, dev_outcomes, metric=\"euclidean\")"
     ],
     "language": "python",
     "metadata": {},
     "outputs": [
      {
       "output_type": "stream",
       "stream": "stdout",
       "text": [
        "Nearest Neighbors Model Accuracy ( 20 neighbors ): 74.01 %\n"
       ]
      }
     ],
     "prompt_number": 25
    },
    {
     "cell_type": "heading",
     "level": 4,
     "metadata": {},
     "source": [
      "*5-1-3. KNN Model, Text Data*"
     ]
    },
    {
     "cell_type": "markdown",
     "metadata": {},
     "source": [
      "Training a K-Nearest Neighbors model on the text data only (specifically the PCA-reduced predictor set)."
     ]
    },
    {
     "cell_type": "code",
     "collapsed": false,
     "input": [
      "KNN(train_text_reduced_scaled, train_outcomes, dev_text_reduced_scaled, dev_outcomes, metric=\"euclidean\")"
     ],
     "language": "python",
     "metadata": {},
     "outputs": [
      {
       "output_type": "stream",
       "stream": "stdout",
       "text": [
        "Nearest Neighbors Model Accuracy ( 8 neighbors ): 73.76 %\n"
       ]
      }
     ],
     "prompt_number": 26
    },
    {
     "cell_type": "heading",
     "level": 4,
     "metadata": {},
     "source": [
      "*5-1-4. Combine the three KNN models*"
     ]
    },
    {
     "cell_type": "markdown",
     "metadata": {},
     "source": [
      "Training a K-Nearest Neighbors model on all three predictor sets together."
     ]
    },
    {
     "cell_type": "code",
     "collapsed": false,
     "input": [
      "#Optimal temporal KNN model\n",
      "knn = KNeighborsClassifier(algorithm='auto', metric=\"hamming\", n_neighbors=20)\n",
      "knn.fit(train_temporal, train_outcomes)\n",
      "temp_knn_preds = knn.predict(dev_temporal)\n",
      "\n",
      "#Optimal requester KNN model\n",
      "knn = KNeighborsClassifier(algorithm='auto', metric=\"euclidean\", n_neighbors=20)\n",
      "knn.fit(norm_train_req, train_outcomes)\n",
      "req_knn_preds = knn.predict(norm_dev_req)\n",
      "\n",
      "#Optimal text KNN model\n",
      "knn = KNeighborsClassifier(algorithm='auto', metric=\"euclidean\", n_neighbors=10)\n",
      "knn.fit(train_text_reduced_scaled, train_outcomes)\n",
      "text_knn_preds = knn.predict(dev_text_reduced_scaled)\n",
      "\n",
      "#Combine the three models\n",
      "KNN_preds=[]\n",
      "for i,j,k in zip(temp_knn_preds, req_knn_preds, text_knn_preds):\n",
      "    pred=[]\n",
      "    pred.append(i), pred.append(j), pred.append(k)\n",
      "    KNN_preds.append(max(set(pred)))\n",
      "    \n",
      "print 'Combined KNN Model Accuracy:', round(metrics.accuracy_score(dev_outcomes, KNN_preds),4)*100, '%'\n"
     ],
     "language": "python",
     "metadata": {},
     "outputs": [
      {
       "output_type": "stream",
       "stream": "stdout",
       "text": [
        "Combined KNN Model Accuracy: 72.4 %\n"
       ]
      }
     ],
     "prompt_number": 27
    },
    {
     "cell_type": "markdown",
     "metadata": {},
     "source": [
      "Combining the three models showed no improvement, in fact this model is outperformed by all of the individual models from which it is composed. The best KNN model achieves an accuracy of 74.01% and is based entirely on the requester predictors by themselves."
     ]
    },
    {
     "cell_type": "heading",
     "level": 4,
     "metadata": {},
     "source": [
      "*5-2. Logistic Regression*"
     ]
    },
    {
     "cell_type": "code",
     "collapsed": false,
     "input": [
      "def run_Logistic_Regression(train_feats, train_labels, dev_feats, dev_labels):\n",
      "    accuracies=[]\n",
      "    C = [0.01, 0.025, 0.5, 0.1, 0.25, 0.5, 1, 2.5]\n",
      "    \n",
      "    for i in C:\n",
      "        log_reg = LogisticRegression(penalty=\"l2\", C=i)\n",
      "        log_reg.fit(train_feats, train_labels)\n",
      "        reg_preds = log_reg.predict(dev_feats)\n",
      "        accuracies.append(metrics.accuracy_score(dev_labels, reg_preds))\n",
      "    \n",
      "    max_acc = max(accuracies)\n",
      "    best_C = C[accuracies.index(max_acc)]\n",
      "    print \"Logistic Regression Model Accuracy (C:\", best_C,\"):\", round(max_acc,4)*100,'%'\n",
      "    "
     ],
     "language": "python",
     "metadata": {},
     "outputs": [],
     "prompt_number": 28
    },
    {
     "cell_type": "heading",
     "level": 4,
     "metadata": {},
     "source": [
      "*5-2-1. Logistic Regression, Temporal Data*"
     ]
    },
    {
     "cell_type": "markdown",
     "metadata": {},
     "source": [
      "Training a Logistic Regression model on the temporal data only (all predictors)."
     ]
    },
    {
     "cell_type": "code",
     "collapsed": false,
     "input": [
      "print 'Temporal Logistic Regression Model:'\n",
      "run_Logistic_Regression(train_temporal, train_outcomes, dev_temporal, dev_outcomes)"
     ],
     "language": "python",
     "metadata": {},
     "outputs": [
      {
       "output_type": "stream",
       "stream": "stdout",
       "text": [
        "Temporal Logistic Regression Model:\n",
        "Logistic Regression Model Accuracy (C: 0.01 ): 73.89 %\n"
       ]
      }
     ],
     "prompt_number": 29
    },
    {
     "cell_type": "heading",
     "level": 4,
     "metadata": {},
     "source": [
      "*5-2-2. Logistic Regression, Requester Data*"
     ]
    },
    {
     "cell_type": "markdown",
     "metadata": {},
     "source": [
      "Training a Logistic Regression model on the requester data only (normalized and non-normalized)."
     ]
    },
    {
     "cell_type": "code",
     "collapsed": false,
     "input": [
      "print \"Normalized Requester Logistic Regression Model:\"\n",
      "run_Logistic_Regression(norm_train_req, train_outcomes, norm_dev_req, dev_outcomes)"
     ],
     "language": "python",
     "metadata": {},
     "outputs": [
      {
       "output_type": "stream",
       "stream": "stdout",
       "text": [
        "Normalized Requester Logistic Regression Model:\n",
        "Logistic Regression Model Accuracy (C: 0.01 ): 74.88 %\n"
       ]
      }
     ],
     "prompt_number": 30
    },
    {
     "cell_type": "code",
     "collapsed": false,
     "input": [
      "print \"Non-Normalized Requester Logistic Regression Model:\"\n",
      "run_Logistic_Regression(train_requester_feats, train_outcomes, dev_requester_feats, dev_outcomes)"
     ],
     "language": "python",
     "metadata": {},
     "outputs": [
      {
       "output_type": "stream",
       "stream": "stdout",
       "text": [
        "Non-Normalized Requester Logistic Regression Model:\n",
        "Logistic Regression Model Accuracy (C:"
       ]
      },
      {
       "output_type": "stream",
       "stream": "stdout",
       "text": [
        " 0.5 ): 75.12 %\n"
       ]
      }
     ],
     "prompt_number": 31
    },
    {
     "cell_type": "markdown",
     "metadata": {},
     "source": [
      "It's interesting to note here that the non-normalized requester features did slightly better than the normalized requester features. We expect this is due to the fact that the variables themselves are not normally distributed - in fact most are counts. When you normalize count variables (particuarly variables where counts of 0 or 1 make up a large portion of the data), the range can be dramatically increased by normalization since the standard deviation is very small. Normalizing makes these predictors less comparable to other variables, not more."
     ]
    },
    {
     "cell_type": "heading",
     "level": 4,
     "metadata": {},
     "source": [
      "*5-2-3. Logistic Regression, Text Data*"
     ]
    },
    {
     "cell_type": "markdown",
     "metadata": {},
     "source": [
      "Training a Logistic Regression model on the text data only (all features and reduced)."
     ]
    },
    {
     "cell_type": "code",
     "collapsed": false,
     "input": [
      "print 'Text Logistic Regression Model (All Features):'\n",
      "run_Logistic_Regression(train_text_features, train_outcomes, dev_text_features, dev_outcomes)"
     ],
     "language": "python",
     "metadata": {},
     "outputs": [
      {
       "output_type": "stream",
       "stream": "stdout",
       "text": [
        "Text Logistic Regression Model (All Features):\n",
        "Logistic Regression Model Accuracy (C:"
       ]
      },
      {
       "output_type": "stream",
       "stream": "stdout",
       "text": [
        " 0.25 ): 74.88 %\n"
       ]
      }
     ],
     "prompt_number": 32
    },
    {
     "cell_type": "code",
     "collapsed": false,
     "input": [
      "print 'Text Logistic Regression Model (Reduced Features):'\n",
      "run_Logistic_Regression(train_text_reduced, train_outcomes, dev_text_reduced, dev_outcomes)"
     ],
     "language": "python",
     "metadata": {},
     "outputs": [
      {
       "output_type": "stream",
       "stream": "stdout",
       "text": [
        "Text Logistic Regression Model (Reduced Features):\n",
        "Logistic Regression Model Accuracy (C:"
       ]
      },
      {
       "output_type": "stream",
       "stream": "stdout",
       "text": [
        " 0.5 ): 74.5 %\n"
       ]
      }
     ],
     "prompt_number": 33
    },
    {
     "cell_type": "markdown",
     "metadata": {},
     "source": [
      "Again, it's interesting to note that the model with the reduced features did about the same as the model with all of the 10K identified text features. We were able to use PCA to reduce the problem space, which improved the Logistic Regression even though we lost some of the initial variance by reducing from 10K predictors to 111."
     ]
    },
    {
     "cell_type": "heading",
     "level": 4,
     "metadata": {},
     "source": [
      "*5-2-4. Logistic Regression, Combined Data*"
     ]
    },
    {
     "cell_type": "markdown",
     "metadata": {},
     "source": [
      "Training a Logistic Regression model on all the predictor sets together."
     ]
    },
    {
     "cell_type": "code",
     "collapsed": false,
     "input": [
      "print 'Combined Logistic Regression Model (All Text Features):'\n",
      "included_train = np.concatenate((train_requester_feats, train_temporal, train_text_features), axis = 1)\n",
      "included_dev = np.concatenate((dev_requester_feats, dev_temporal, dev_text_features), axis = 1)\n",
      "run_Logistic_Regression(included_train, train_outcomes, included_dev, dev_outcomes)"
     ],
     "language": "python",
     "metadata": {},
     "outputs": [
      {
       "output_type": "stream",
       "stream": "stdout",
       "text": [
        "Combined Logistic Regression Model (All Text Features):\n",
        "Logistic Regression Model Accuracy (C:"
       ]
      },
      {
       "output_type": "stream",
       "stream": "stdout",
       "text": [
        " 0.1 ): 75.62 %\n"
       ]
      }
     ],
     "prompt_number": 34
    },
    {
     "cell_type": "code",
     "collapsed": false,
     "input": [
      "print 'Combined Logistic Regression Model (Reduced Text Features):'\n",
      "included_train = np.concatenate((train_requester_feats, train_temporal, train_text_reduced), axis = 1)\n",
      "included_dev = np.concatenate((dev_requester_feats, dev_temporal, dev_text_reduced), axis = 1)\n",
      "run_Logistic_Regression(included_train, train_outcomes, included_dev, dev_outcomes)"
     ],
     "language": "python",
     "metadata": {},
     "outputs": [
      {
       "output_type": "stream",
       "stream": "stdout",
       "text": [
        "Combined Logistic Regression Model (Reduced Text Features):\n",
        "Logistic Regression Model Accuracy (C:"
       ]
      },
      {
       "output_type": "stream",
       "stream": "stdout",
       "text": [
        " 1 ): 76.36 %\n"
       ]
      }
     ],
     "prompt_number": 35
    },
    {
     "cell_type": "markdown",
     "metadata": {},
     "source": [
      "Using the non-normalized requester variables, the temporal variables, and the reduced text variables together has resulted in our best accuracy overall. Note that we selected the number of PCA components to use using a logistic regression model, so it makes sense that this model would perform well. "
     ]
    },
    {
     "cell_type": "heading",
     "level": 4,
     "metadata": {},
     "source": [
      "*5-3. Random Forest*"
     ]
    },
    {
     "cell_type": "code",
     "collapsed": true,
     "input": [
      "def Random_Forest(train_feats, train_labels, dev_feats, dev_labels):\n",
      "    estimators=[]\n",
      "    accuracies=[]\n",
      "\n",
      "    for i in range(1,30):\n",
      "        rf = RandomForestClassifier(n_estimators=i, random_state=99)\n",
      "        rf.fit(train_feats, train_labels)\n",
      "        rf_preds=rf.predict(dev_feats)\n",
      "        acc = metrics.accuracy_score(dev_labels, rf_preds)\n",
      "        estimators.append(i)\n",
      "        accuracies.append(acc)\n",
      "\n",
      "    max_acc = max(accuracies)\n",
      "    est = estimators[accuracies.index(max_acc)]\n",
      "    print 'Random Forests Model Accuracy (',est,'estimators ):',round(max_acc,4)*100,'%'"
     ],
     "language": "python",
     "metadata": {},
     "outputs": [],
     "prompt_number": 36
    },
    {
     "cell_type": "heading",
     "level": 4,
     "metadata": {},
     "source": [
      "*5-3-1. Random Forest, Temporal Data*"
     ]
    },
    {
     "cell_type": "markdown",
     "metadata": {},
     "source": [
      "Training a Random Forest model on all the temporal data alone."
     ]
    },
    {
     "cell_type": "code",
     "collapsed": false,
     "input": [
      "print 'Temporal Random Forest Model:'\n",
      "Random_Forest(train_temporal, train_outcomes, dev_temporal, dev_outcomes)"
     ],
     "language": "python",
     "metadata": {},
     "outputs": [
      {
       "output_type": "stream",
       "stream": "stdout",
       "text": [
        "Temporal Random Forest Model:\n",
        "Random Forests Model Accuracy ("
       ]
      },
      {
       "output_type": "stream",
       "stream": "stdout",
       "text": [
        " 3 estimators ): 73.39 %\n"
       ]
      }
     ],
     "prompt_number": 37
    },
    {
     "cell_type": "heading",
     "level": 4,
     "metadata": {},
     "source": [
      "*5-3-2. Random Forest, Requester Data*"
     ]
    },
    {
     "cell_type": "markdown",
     "metadata": {},
     "source": [
      "Training a Random Forest model on all the requester data alone."
     ]
    },
    {
     "cell_type": "code",
     "collapsed": false,
     "input": [
      "print 'Requester Random Forest Model (simple):'\n",
      "Random_Forest(train_requester_feats, train_outcomes, dev_requester_feats, dev_outcomes)"
     ],
     "language": "python",
     "metadata": {},
     "outputs": [
      {
       "output_type": "stream",
       "stream": "stdout",
       "text": [
        "Requester Random Forest Model (simple):\n",
        "Random Forests Model Accuracy ("
       ]
      },
      {
       "output_type": "stream",
       "stream": "stdout",
       "text": [
        " 26 estimators ): 73.64 %\n"
       ]
      }
     ],
     "prompt_number": 38
    },
    {
     "cell_type": "markdown",
     "metadata": {},
     "source": [
      "Next we're going to try doing a Random Forest model on the requester data after binning it into binary features."
     ]
    },
    {
     "cell_type": "code",
     "collapsed": false,
     "input": [
      "#Convert normalized feats to binary feats\n",
      "#Start with training set\n",
      "bin_train_req_1 = []\n",
      "bin_train_req_2 = []\n",
      "bin_train_req_3 = []\n",
      "bin_train_req_4 = []\n",
      "bin_train_req_5 = []\n",
      "bin_train_req_6 = []\n",
      "bin_train_req_7 = []\n",
      "bin_train_req_8 = []\n",
      "bin_train_req_9 = []\n",
      "\n",
      "for a,b,c,d,e,f,g,h,i in zip(norm_train_req['requester_account_age_in_days_at_request'],\n",
      "                             norm_train_req['requester_days_since_first_post_on_raop_at_request'],\n",
      "                             norm_train_req['requester_number_of_comments_at_request'],\n",
      "                             norm_train_req['requester_number_of_comments_in_raop_at_request'],\n",
      "                             norm_train_req['requester_number_of_posts_at_request'],\n",
      "                             norm_train_req['requester_number_of_posts_on_raop_at_request'],\n",
      "                             norm_train_req['requester_number_of_subreddits_at_request'],\n",
      "                             norm_train_req['requester_upvotes_minus_downvotes_at_request'],\n",
      "                             norm_train_req['requester_upvotes_plus_downvotes_at_request']):\n",
      "    if a>0:\n",
      "        bin_train_req_1.append(1)\n",
      "    else:\n",
      "        bin_train_req_1.append(0)\n",
      "        \n",
      "    if b>0:\n",
      "        bin_train_req_2.append(1)\n",
      "    else:\n",
      "        bin_train_req_2.append(0)\n",
      "        \n",
      "    if c>0:\n",
      "        bin_train_req_3.append(1)\n",
      "    else:\n",
      "        bin_train_req_3.append(0)\n",
      "        \n",
      "    if d>0:\n",
      "        bin_train_req_4.append(1)\n",
      "    else:\n",
      "        bin_train_req_4.append(0)\n",
      "        \n",
      "    if e>0:\n",
      "        bin_train_req_5.append(1)\n",
      "    else:\n",
      "        bin_train_req_5.append(0)\n",
      "        \n",
      "    if f>0:\n",
      "        bin_train_req_6.append(1)\n",
      "    else:\n",
      "        bin_train_req_6.append(0)\n",
      "        \n",
      "    if g>0:\n",
      "        bin_train_req_7.append(1)\n",
      "    else:\n",
      "        bin_train_req_7.append(0)\n",
      "        \n",
      "    if h>0:\n",
      "        bin_train_req_8.append(1)\n",
      "    else:\n",
      "        bin_train_req_8.append(0)\n",
      "        \n",
      "    if i>0:\n",
      "        bin_train_req_9.append(1)\n",
      "    else:\n",
      "        bin_train_req_9.append(0)\n",
      "                             \n",
      "\n",
      "bin_train_req = pd.DataFrame()\n",
      "\n",
      "bin_train_req['requester_account_age_in_days_at_request'] = bin_train_req_1\n",
      "bin_train_req['requester_days_since_first_post_on_raop_at_request'] = bin_train_req_2\n",
      "bin_train_req['requester_number_of_comments_at_request'] = bin_train_req_3\n",
      "bin_train_req['requester_number_of_comments_in_raop_at_request'] = bin_train_req_4\n",
      "bin_train_req['requester_number_of_posts_at_request'] = bin_train_req_5\n",
      "bin_train_req['requester_number_of_posts_on_raop_at_request'] = bin_train_req_6\n",
      "bin_train_req['requester_number_of_subreddits_at_request'] = bin_train_req_7\n",
      "bin_train_req['requester_upvotes_minus_downvotes_at_request'] = bin_train_req_8\n",
      "bin_train_req['requester_upvotes_plus_downvotes_at_request'] = bin_train_req_9\n",
      "\n",
      "#Now the dev set\n",
      "bin_dev_req_1 = []\n",
      "bin_dev_req_2 = []\n",
      "bin_dev_req_3 = []\n",
      "bin_dev_req_4 = []\n",
      "bin_dev_req_5 = []\n",
      "bin_dev_req_6 = []\n",
      "bin_dev_req_7 = []\n",
      "bin_dev_req_8 = []\n",
      "bin_dev_req_9 = []\n",
      "\n",
      "for a,b,c,d,e,f,g,h,i in zip(norm_dev_req['requester_account_age_in_days_at_request'],\n",
      "                             norm_dev_req['requester_days_since_first_post_on_raop_at_request'],\n",
      "                             norm_dev_req['requester_number_of_comments_at_request'],\n",
      "                             norm_dev_req['requester_number_of_comments_in_raop_at_request'],\n",
      "                             norm_dev_req['requester_number_of_posts_at_request'],\n",
      "                             norm_dev_req['requester_number_of_posts_on_raop_at_request'],\n",
      "                             norm_dev_req['requester_number_of_subreddits_at_request'],\n",
      "                             norm_dev_req['requester_upvotes_minus_downvotes_at_request'],\n",
      "                             norm_dev_req['requester_upvotes_plus_downvotes_at_request']):\n",
      "    if a>0:\n",
      "        bin_dev_req_1.append(1)\n",
      "    else:\n",
      "        bin_dev_req_1.append(0)\n",
      "        \n",
      "    if b>0:\n",
      "        bin_dev_req_2.append(1)\n",
      "    else:\n",
      "        bin_dev_req_2.append(0)\n",
      "        \n",
      "    if c>0:\n",
      "        bin_dev_req_3.append(1)\n",
      "    else:\n",
      "        bin_dev_req_3.append(0)\n",
      "        \n",
      "    if d>0:\n",
      "        bin_dev_req_4.append(1)\n",
      "    else:\n",
      "        bin_dev_req_4.append(0)\n",
      "        \n",
      "    if e>0:\n",
      "        bin_dev_req_5.append(1)\n",
      "    else:\n",
      "        bin_dev_req_5.append(0)\n",
      "        \n",
      "    if f>0:\n",
      "        bin_dev_req_6.append(1)\n",
      "    else:\n",
      "        bin_dev_req_6.append(0)\n",
      "        \n",
      "    if g>0:\n",
      "        bin_dev_req_7.append(1)\n",
      "    else:\n",
      "        bin_dev_req_7.append(0)\n",
      "        \n",
      "    if h>0:\n",
      "        bin_dev_req_8.append(1)\n",
      "    else:\n",
      "        bin_dev_req_8.append(0)\n",
      "        \n",
      "    if i>0:\n",
      "        bin_dev_req_9.append(1)\n",
      "    else:\n",
      "        bin_dev_req_9.append(0)\n",
      "                             \n",
      "\n",
      "bin_dev_req = pd.DataFrame()\n",
      "\n",
      "bin_dev_req['requester_account_age_in_days_at_request'] = bin_dev_req_1\n",
      "bin_dev_req['requester_days_since_first_post_on_raop_at_request'] = bin_dev_req_2\n",
      "bin_dev_req['requester_number_of_comments_at_request'] = bin_dev_req_3\n",
      "bin_dev_req['requester_number_of_comments_in_raop_at_request'] = bin_dev_req_4\n",
      "bin_dev_req['requester_number_of_posts_at_request'] = bin_dev_req_5\n",
      "bin_dev_req['requester_number_of_posts_on_raop_at_request'] = bin_dev_req_6\n",
      "bin_dev_req['requester_number_of_subreddits_at_request'] = bin_dev_req_7\n",
      "bin_dev_req['requester_upvotes_minus_downvotes_at_request'] = bin_dev_req_8\n",
      "bin_dev_req['requester_upvotes_plus_downvotes_at_request'] = bin_dev_req_9\n",
      "\n",
      "print 'Requester Random Forest Model (binary, scaled):'\n",
      "Random_Forest(bin_train_req, train_outcomes, bin_dev_req, dev_outcomes)"
     ],
     "language": "python",
     "metadata": {},
     "outputs": [
      {
       "output_type": "stream",
       "stream": "stdout",
       "text": [
        "Requester Random Forest Model (binary, scaled):\n",
        "Random Forests Model Accuracy ("
       ]
      },
      {
       "output_type": "stream",
       "stream": "stdout",
       "text": [
        " 3 estimators ): 74.01 %\n"
       ]
      }
     ],
     "prompt_number": 39
    },
    {
     "cell_type": "markdown",
     "metadata": {},
     "source": [
      "We're also going to try combining just the temporal and requester predictor sets, to see whether these do well on their own without text added."
     ]
    },
    {
     "cell_type": "code",
     "collapsed": false,
     "input": [
      "#Combine Temporal & Requester Random Forest Models\n",
      "temp_req_train = pd.concat([train_temporal, bin_train_req], axis=1, join='inner')\n",
      "temp_req_dev = pd.concat([dev_temporal, bin_dev_req], axis=1, join='inner')\n",
      "\n",
      "print 'Temporal + Requester Random Forest Model:'\n",
      "Random_Forest(temp_req_train, train_outcomes, temp_req_dev, dev_outcomes)"
     ],
     "language": "python",
     "metadata": {},
     "outputs": [
      {
       "output_type": "stream",
       "stream": "stdout",
       "text": [
        "Temporal + Requester Random Forest Model:\n",
        "Random Forests Model Accuracy ("
       ]
      },
      {
       "output_type": "stream",
       "stream": "stdout",
       "text": [
        " 2 estimators ): 72.4 %\n"
       ]
      }
     ],
     "prompt_number": 40
    },
    {
     "cell_type": "heading",
     "level": 4,
     "metadata": {},
     "source": [
      "*5-3-3. Random Forest, Text Data*"
     ]
    },
    {
     "cell_type": "markdown",
     "metadata": {},
     "source": [
      "Training a Random Forest model on all the text data alone (full feature set and reduced)."
     ]
    },
    {
     "cell_type": "code",
     "collapsed": false,
     "input": [
      "print 'Text Random Forest Model (All Features):'\n",
      "Random_Forest(train_text_features, train_outcomes, dev_text_features, dev_outcomes)"
     ],
     "language": "python",
     "metadata": {},
     "outputs": [
      {
       "output_type": "stream",
       "stream": "stdout",
       "text": [
        "Text Random Forest Model (All Features):\n",
        "Random Forests Model Accuracy ("
       ]
      },
      {
       "output_type": "stream",
       "stream": "stdout",
       "text": [
        " 12 estimators ): 73.27 %\n"
       ]
      }
     ],
     "prompt_number": 41
    },
    {
     "cell_type": "code",
     "collapsed": false,
     "input": [
      "print 'Text Random Forest Model (Reduced Features):'\n",
      "Random_Forest(train_text_reduced, train_outcomes, dev_text_reduced, dev_outcomes)"
     ],
     "language": "python",
     "metadata": {},
     "outputs": [
      {
       "output_type": "stream",
       "stream": "stdout",
       "text": [
        "Text Random Forest Model (Reduced Features):\n",
        "Random Forests Model Accuracy ("
       ]
      },
      {
       "output_type": "stream",
       "stream": "stdout",
       "text": [
        " 16 estimators ): 73.64 %\n"
       ]
      }
     ],
     "prompt_number": 42
    },
    {
     "cell_type": "markdown",
     "metadata": {},
     "source": [
      "In this case, the reduced feature set outperforms the set of all features, which may be because random forest models require more parameters to effectively incorporate 10K predictors."
     ]
    },
    {
     "cell_type": "heading",
     "level": 4,
     "metadata": {},
     "source": [
      "*5-3-4. Combined Random Forest Model*"
     ]
    },
    {
     "cell_type": "markdown",
     "metadata": {},
     "source": [
      "Training a Random Forest model on all the predictor sets combined."
     ]
    },
    {
     "cell_type": "code",
     "collapsed": false,
     "input": [
      "train_text_features = pd.DataFrame(train_text_features)\n",
      "dev_text_features = pd.DataFrame(dev_text_features)\n",
      "\n",
      "temp_req_txt_train = pd.concat([temp_req_train, train_text_features], axis=1, join='inner')\n",
      "temp_req_txt_dev = pd.concat([temp_req_dev, dev_text_features], axis=1, join='inner')\n",
      "\n",
      "print 'Temporal + Requester + Text Random Forest Model:'\n",
      "Random_Forest(temp_req_txt_train, train_outcomes, temp_req_txt_dev, dev_outcomes)"
     ],
     "language": "python",
     "metadata": {},
     "outputs": [
      {
       "output_type": "stream",
       "stream": "stdout",
       "text": [
        "Temporal + Requester + Text Random Forest Model:\n",
        "Random Forests Model Accuracy ("
       ]
      },
      {
       "output_type": "stream",
       "stream": "stdout",
       "text": [
        " 9 estimators ): 74.26 %\n"
       ]
      }
     ],
     "prompt_number": 43
    },
    {
     "cell_type": "markdown",
     "metadata": {},
     "source": [
      "The best Random Forest model achieved an accuracy of 74.25% using all predictors combined. Random Forest tends to do well with text data, so this is not terribly surprising. However, in this case, basic Logistic Regression did even better. "
     ]
    },
    {
     "cell_type": "heading",
     "level": 3,
     "metadata": {},
     "source": [
      "*6. Final Results and Conclusions*"
     ]
    },
    {
     "cell_type": "markdown",
     "metadata": {},
     "source": [
      "The best model as determmined above is a Logistic Regression model that includes all 3 major sets of predictors: the requester predictors (not normalized), the temporal predictors, and the reduced text predictors (also not normalized). We fit that again below:"
     ]
    },
    {
     "cell_type": "code",
     "collapsed": false,
     "input": [
      "included_train = np.concatenate((train_requester_feats, train_temporal, train_text_reduced), axis = 1)\n",
      "included_dev = np.concatenate((dev_requester_feats, dev_temporal, dev_text_reduced), axis = 1)\n",
      "log_reg = LogisticRegression(penalty=\"l2\", C=1)\n",
      "log_reg.fit(included_train, train_outcomes)\n",
      "reg_preds = log_reg.predict(included_dev)\n",
      "print \"Accuracy Score:\"\n",
      "print round(metrics.accuracy_score(dev_outcomes, reg_preds),4)*100, \"%\""
     ],
     "language": "python",
     "metadata": {},
     "outputs": [
      {
       "output_type": "stream",
       "stream": "stdout",
       "text": [
        "Accuracy Score:\n",
        "76.36 %\n"
       ]
      }
     ],
     "prompt_number": 44
    },
    {
     "cell_type": "markdown",
     "metadata": {},
     "source": [
      "We started out with two baselines: One model picked the more likely class all the time (75.4%), and the other predicted the outcome with the probability of the mean response (62.62%). It's a little discouraging that after all of our work, our best model only beat the first baseline by about 1 percentage point. However, the model we ended up with has much more predictive value than that first baseline. This is due to the accuracy paradox: a model with higher accuracy may not always have more predictive value. That is why it's also helpful to look at precision and recall."
     ]
    },
    {
     "cell_type": "code",
     "collapsed": false,
     "input": [
      "print \"Confusion Matrix: \"\n",
      "print metrics.confusion_matrix(dev_outcomes, reg_preds)\n",
      "print \"Classification Report: \"\n",
      "print metrics.classification_report(dev_outcomes, reg_preds)"
     ],
     "language": "python",
     "metadata": {},
     "outputs": [
      {
       "output_type": "stream",
       "stream": "stdout",
       "text": [
        "Confusion Matrix: \n",
        "[[572  25]\n",
        " [163  48]]\n",
        "Classification Report: \n",
        "             precision    recall  f1-score   support\n",
        "\n",
        "          0       0.78      0.96      0.86       597\n",
        "          1       0.66      0.23      0.34       211\n",
        "\n",
        "avg / total       0.75      0.77      0.72       808\n",
        "\n"
       ]
      }
     ],
     "prompt_number": 58
    },
    {
     "cell_type": "markdown",
     "metadata": {},
     "source": [
      "Precision is equal to TP / (TP + FP) and recall is equal to TP / (TP + FN). That first model would have defined everything as a Negative, and thus ended up with about 75% True Negatives and about 25% False Negatives. The accuracy is about 75%, but since there are no True Positives, the precision and recall of the positive class would have been 0 - no positive cases would have been identified at all. While our best accuracy is only slightly higher, our model is much, much more useful."
     ]
    },
    {
     "cell_type": "markdown",
     "metadata": {},
     "source": [
      "Even so, there is potentially room for improvement by better addressing the imbalance in the data. The negative class is much larger than the positive class in the training and the dev set, and we can see in the confusion matrix that we are only predicting 9% (73/808) of the dev cases into the positive class. By working with class probabilities to address that imbalance better, we might reduce our False Negative rate."
     ]
    },
    {
     "cell_type": "code",
     "collapsed": false,
     "input": [],
     "language": "python",
     "metadata": {},
     "outputs": []
    }
   ],
   "metadata": {}
  }
 ]
}